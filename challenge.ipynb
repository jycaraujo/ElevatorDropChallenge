{
 "cells": [
  {
   "cell_type": "code",
   "execution_count": 1,
   "metadata": {},
   "outputs": [],
   "source": [
    "class elevatorDrop(object):\n",
    "    # A Dynamic Programming based Python Program for the Elevator Dropping Puzzle \n",
    "    \n",
    "    def getDrop(elevators, floors):\n",
    "        INT_MAX = 32767\n",
    "        drops = [[0 for x in range(floors+1)] for x in range(elevators+1)] \n",
    "        #base case 1:\n",
    "        #if floors = 0 then no drops are required // OR floors = 1 then 1 drop is required\n",
    "        for i in range(1, elevators+1):\n",
    "            drops[i][0] = 0\n",
    "            drops[i][1] = 1\n",
    "        \n",
    "        #base case 2:\n",
    "        #if only one elevator is there then drops = floors\n",
    "        for i in  range(1, floors+1):\n",
    "            drops[1][i] = i\n",
    "            \n",
    "        for i in range(2, elevators+1):\n",
    "            for j in range(2, floors+1):\n",
    "                drops[i][j] = INT_MAX \n",
    "                for x in range(1, j+1): \n",
    "                    res = 1 + max(drops[i-1][x-1], drops[i][j-x]) \n",
    "                    if res < drops[i][j]:\n",
    "                        drops[i][j] = res \n",
    "  \n",
    "        # elevatorFloor[n][k] holds the result \n",
    "        return drops[elevators][floors] "
   ]
  },
  {
   "cell_type": "code",
   "execution_count": 2,
   "metadata": {},
   "outputs": [
    {
     "name": "stdout",
     "output_type": "stream",
     "text": [
      "Number of elevators: 3\n"
     ]
    }
   ],
   "source": [
    "elevators = input(\"Number of elevators: \")"
   ]
  },
  {
   "cell_type": "code",
   "execution_count": 3,
   "metadata": {},
   "outputs": [
    {
     "name": "stdout",
     "output_type": "stream",
     "text": [
      "Number of floors: 20\n"
     ]
    }
   ],
   "source": [
    "floors = input(\"Number of floors: \")"
   ]
  },
  {
   "cell_type": "code",
   "execution_count": 4,
   "metadata": {},
   "outputs": [
    {
     "name": "stdout",
     "output_type": "stream",
     "text": [
      "Minimum number of trials in worst case with 3 elevators and 20 floors is 5\n"
     ]
    }
   ],
   "source": [
    "print(\"Minimum number of trials in worst case with \" + str(elevators) + \" elevators and \" + str(floors) + \" floors is \" + str(elevatorDrop.getDrop(int(elevators), int(floors)))) "
   ]
  },
  {
   "cell_type": "code",
   "execution_count": 5,
   "metadata": {},
   "outputs": [
    {
     "name": "stdout",
     "output_type": "stream",
     "text": [
      "19\n"
     ]
    }
   ],
   "source": [
    "import random\n",
    "random.seed(10)\n",
    "\n",
    "class Elevator(object):\n",
    "    __floor_resistance = random.randint(1, int(floors))\n",
    "    print(__floor_resistance)\n",
    "    \n",
    "    def __init__(self):\n",
    "        self.broken = False\n",
    "\n",
    "    def crash_test(self, floor):\n",
    "        self.broken = floor >= self.__floor_resistance\n",
    "        return self.broken"
   ]
  },
  {
   "cell_type": "code",
   "execution_count": 6,
   "metadata": {},
   "outputs": [],
   "source": [
    "first = 1\n",
    "last = elevatorDrop.getDrop(int(elevators), int(floors))\n",
    "trials = elevatorDrop.getDrop(int(elevators), int(floors))"
   ]
  },
  {
   "cell_type": "code",
   "execution_count": 7,
   "metadata": {},
   "outputs": [],
   "source": [
    "elevator = Elevator()"
   ]
  },
  {
   "cell_type": "code",
   "execution_count": 8,
   "metadata": {},
   "outputs": [],
   "source": [
    "def quickTest(i, j, elevator):\n",
    "    for x in range(i, j):\n",
    "        xpto = elevator.crash_test(x)\n",
    "        print(\"Floor: \" + str(x))\n",
    "        print(\"elevator.crash_test(\"+str(x)+\"): \"+ str(xpto))\n",
    "        if xpto == True:\n",
    "            print(\"Breaks on the floor: \" + str(x))\n",
    "            print(\"Elevators remaining: \" + str(elevators))\n",
    "            print(\"Resistance: \" + str(x - 1))\n",
    "            return x"
   ]
  },
  {
   "cell_type": "code",
   "execution_count": 9,
   "metadata": {},
   "outputs": [
    {
     "name": "stdout",
     "output_type": "stream",
     "text": [
      "0\n",
      "Elevators: 3\n",
      "Interval: (1, 5\n",
      "elevator.crash_test(5): False\n",
      "1\n",
      "Elevators: 3\n",
      "Interval: (6, 10\n",
      "elevator.crash_test(10): False\n",
      "2\n",
      "Elevators: 3\n",
      "Interval: (11, 14\n",
      "elevator.crash_test(14): False\n",
      "3\n",
      "Elevators: 3\n",
      "Interval: (15, 17\n",
      "elevator.crash_test(17): False\n",
      "4\n",
      "Elevators: 3\n",
      "Interval: (18, 19\n",
      "elevator.crash_test(19): True\n",
      "Range found\n",
      "Floor: 18\n",
      "elevator.crash_test(18): False\n",
      "Floor: 19\n",
      "elevator.crash_test(19): True\n",
      "Breaks on the floor: 19\n",
      "Elevators remaining: 3\n",
      "Resistance: 18\n"
     ]
    }
   ],
   "source": [
    "aux = 0 \n",
    "while aux <= trials and int(elevators) >= 1 and first <= last:\n",
    "    fintit = 0\n",
    "    result = 0\n",
    "    temp = elevator.crash_test(last)\n",
    "    print(aux)\n",
    "    print(\"Elevators: \"+ str(elevators))\n",
    "    print(\"Interval: (\"+ str(first) + \", \" + str(last))\n",
    "    print(\"elevator.crash_test(\"+str(last)+\"): \"+ str(temp))\n",
    "    if temp == True:\n",
    "        print(\"Range found\")\n",
    "        elevators = int(elevators) - 1\n",
    "        if last - first < 1:\n",
    "            print(\"Breaks on the floor: \" + str(last))\n",
    "            print(\"Elevators remaining: \" + str(elevators))\n",
    "            print(\"Resistance: \" + str(last))\n",
    "            break\n",
    "        else:\n",
    "            quickTest(first, last+1, elevator)\n",
    "            break\n",
    "        \n",
    "    else:\n",
    "        first = last + 1\n",
    "        last = last + trials - aux\n",
    "    \n",
    "    aux +=1\n",
    "    "
   ]
  },
  {
   "cell_type": "code",
   "execution_count": null,
   "metadata": {},
   "outputs": [],
   "source": [
    "    "
   ]
  },
  {
   "cell_type": "code",
   "execution_count": 3,
   "metadata": {},
   "outputs": [
    {
     "data": {
      "text/plain": [
       "6"
      ]
     },
     "execution_count": 3,
     "metadata": {},
     "output_type": "execute_result"
    }
   ],
   "source": []
  },
  {
   "cell_type": "code",
   "execution_count": null,
   "metadata": {},
   "outputs": [],
   "source": []
  }
 ],
 "metadata": {
  "kernelspec": {
   "display_name": "Python 3",
   "language": "python",
   "name": "python3"
  },
  "language_info": {
   "codemirror_mode": {
    "name": "ipython",
    "version": 3
   },
   "file_extension": ".py",
   "mimetype": "text/x-python",
   "name": "python",
   "nbconvert_exporter": "python",
   "pygments_lexer": "ipython3",
   "version": "3.6.7"
  }
 },
 "nbformat": 4,
 "nbformat_minor": 2
}
